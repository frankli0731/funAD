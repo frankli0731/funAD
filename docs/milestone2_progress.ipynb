{
  "nbformat": 4,
  "nbformat_minor": 0,
  "metadata": {
    "colab": {
      "provenance": [],
      "collapsed_sections": []
    },
    "kernelspec": {
      "name": "python3",
      "display_name": "Python 3"
    },
    "language_info": {
      "name": "python"
    }
  },
  "cells": [
    {
      "cell_type": "markdown",
      "source": [
        "### 1\n",
        "The table below specifies how we assign tasks in Milestone 2 to every team member. Note that the numbers in the table indicate the estimated workload percentage for each task (so that every column sums to 1)."
      ],
      "metadata": {
        "id": "8jh7ZgHvBYAy"
      }
    },
    {
      "cell_type": "markdown",
      "source": [
        "|&nbsp;&nbsp;&nbsp;| Test Suite | Implementation |Documentation & Docstring|Update\\/extended Documentation|New Feature Proposal| \n",
        "| :-----: | :-----: | :-----: | :-----: | :-----: | :-----: |\n",
        "| Hanlin Zhu | $\\frac{1}{3}$ | $\\frac{1}{2}$ | $\\frac{1}{6}$|$\\frac{1}{4}$|$\\frac{1}{4}$|\n",
        "| Tiantong Li || $\\frac{1}{2}$ | $\\frac{1}{6}$|$\\frac{1}{4}$|$\\frac{1}{4}$|\n",
        "| Xu Tang | $\\frac{2}{3}$| | $\\frac{1}{6}$|$\\frac{1}{4}$|$\\frac{1}{4}$|\n",
        "| Zhecheng Yao | | | $\\frac{1}{2}$|$\\frac{1}{4}$|$\\frac{1}{4}$|"
      ],
      "metadata": {
        "id": "wfS6DKy0G5Sq"
      }
    },
    {
      "cell_type": "markdown",
      "source": [
        "### 2"
      ],
      "metadata": {
        "id": "v3UVfMumCvyp"
      }
    },
    {
      "cell_type": "markdown",
      "source": [
        "After milestone 1, we hosted both virtual and in-person weeking meetings for the project and brainstormed on the implementation of AD and extended features. As a group, we consulted with Professor Fabian for advice.\n",
        "\n",
        "Zhecheng Yao\n",
        "incorporated TF’s feedback on reflective function into the dual class module, evaluated differences between CR and CL licenses\n",
        "\n",
        "Tiantong Li\n",
        "Contributed to discussions on implementation details and assisted with implementation. \n",
        "\n",
        "Hanlin Zhu\n",
        "Proposed thoughts on implementation details, and finished prototype implementation for forward mode AD.\n",
        "\n",
        "Tang Xu:\n",
        "Coded test case for implementation prototype\n",
        "Went to TF Office Hour for requirement checking and feedback\n",
        "\n",
        "Also, we summarize the future work."
      ],
      "metadata": {
        "id": "tvkv93bcKPuV"
      }
    },
    {
      "cell_type": "code",
      "source": [],
      "metadata": {
        "id": "oxFbhu1uG7lj"
      },
      "execution_count": null,
      "outputs": []
    }
  ]
}