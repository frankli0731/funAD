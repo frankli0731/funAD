{
 "cells": [
  {
   "cell_type": "code",
   "execution_count": null,
   "metadata": {
    "colab": {
     "base_uri": "https://localhost:8080/",
     "height": 17
    },
    "id": "-L2Ye37HpeDl",
    "outputId": "4fdaa0e5-2289-42f9-b365-1ee57509f7f8"
   },
   "outputs": [
    {
     "data": {
      "text/html": [
       "<style>\n",
       "blockquote { background: #AEDE94; }\n",
       "h1 { \n",
       "    padding-top: 25px;\n",
       "    padding-bottom: 25px;\n",
       "    text-align: left; \n",
       "    padding-left: 10px;\n",
       "    background-color: #DDDDDD; \n",
       "    color: black;\n",
       "}\n",
       "h2 { \n",
       "    padding-top: 10px;\n",
       "    padding-bottom: 10px;\n",
       "    text-align: left; \n",
       "    padding-left: 5px;\n",
       "    background-color: #EEEEEE; \n",
       "    color: black;\n",
       "}\n",
       "\n",
       "div.exercise {\n",
       "\tbackground-color: #ffcccc;\n",
       "\tborder-color: #E9967A; \t\n",
       "\tborder-left: 5px solid #800080; \n",
       "\tpadding: 0.5em;\n",
       "}\n",
       "\n",
       "div.exercise-r {\n",
       "\tbackground-color: #fce8e8;\n",
       "\tborder-color: #E9967A; \t\n",
       "\tborder-left: 5px solid #800080; \n",
       "\tpadding: 0.5em;\n",
       "}\n",
       "\n",
       "\n",
       "span.sub-q {\n",
       "\tfont-weight: bold;\n",
       "}\n",
       "div.theme {\n",
       "\tbackground-color: #DDDDDD;\n",
       "\tborder-color: #E9967A; \t\n",
       "\tborder-left: 5px solid #800080; \n",
       "\tpadding: 0.5em;\n",
       "\tfont-size: 18pt;\n",
       "}\n",
       "div.gc { \n",
       "\tbackground-color: #AEDE94;\n",
       "\tborder-color: #E9967A; \t \n",
       "\tborder-left: 5px solid #800080; \n",
       "\tpadding: 0.5em;\n",
       "\tfont-size: 12pt;\n",
       "}\n",
       "p.q1 { \n",
       "    padding-top: 5px;\n",
       "    padding-bottom: 5px;\n",
       "    text-align: left; \n",
       "    padding-left: 5px;\n",
       "    background-color: #EEEEEE; \n",
       "    color: black;\n",
       "}\n",
       "header {\n",
       "   padding-top: 35px;\n",
       "    padding-bottom: 35px;\n",
       "    text-align: left; \n",
       "    padding-left: 10px;\n",
       "    background-color: #DDDDDD; \n",
       "    color: black;\n",
       "}\n",
       "</style>\n",
       "\n"
      ],
      "text/plain": [
       "<IPython.core.display.HTML object>"
      ]
     },
     "execution_count": 4,
     "metadata": {},
     "output_type": "execute_result"
    }
   ],
   "source": [
    "# RUN THIS CELL FOR FORMAT\n",
    "import requests\n",
    "from IPython.core.display import HTML\n",
    "styles = requests.get(\"https://raw.githubusercontent.com/Harvard-IACS/2018-CS109A/master/content/styles/cs109.css\").text\n",
    "HTML(styles)"
   ]
  },
  {
   "cell_type": "markdown",
   "metadata": {
    "id": "lzCEzrwWqYFK"
   },
   "source": [
    "<a id=\"contents\"></a>\n",
    "\n",
    "## Table of Contents\n",
    "\n",
    "- [**1. Introduction**](#introduction)\n",
    "\n",
    "  - [**1.1 Differentiation Methods and Motivations**](#introduction1)\n",
    "  - [**1.2 Automatic Differentiation**](#introduction2)\n",
    "\n",
    "- [**2. Background**](#background)\n",
    "\n",
    "  - [**2.1 Derivatives**](#background1)\n",
    "\n",
    "  - [**2.2 Chain Rule**](#background2)\n",
    "\n",
    "  - [**2.3 Elementary Functions**](#background3)\n",
    "\n",
    "  - [**2.4 Forward Mode**](#background4)\n",
    "\n",
    "  - [**2.5 Reverse Mode**](#background5)\n",
    "\n",
    "  - [**2.6 Dual Number**](#background6)\n",
    "\n",
    "- [**3. Usage**](#usage)\n",
    "\n",
    "  - [**3.1 Installation**](#usage1)\n",
    "\n",
    "  - [**3.2 How to use**](#usage2)\n",
    "\n",
    "- [**4. Software Organization**](#softwareorganization)\n",
    "\n",
    "  - [**4.1 Directory Structure**](#softwareorganization1)\n",
    "  - [**4.2 Package & Distribution**](#softwareorganization2)\n",
    "  - [**4.3 Modules to Include**](#softwareorganization3)\n",
    "  - [**4.4 Test Design**](#softwareorganization4)\n",
    "\n",
    "- [**5. Implementation**](#implementation)\n",
    "  - [**5.1 Classes**](#Implementation1)\n",
    "  - [**5.2 Core Data Structures**](#Implementation2)\n",
    "  - [**5.3 Elementary Functions & Operator Overloading**](#Implementation3)\n",
    "  - [**5.4 Handle Higher Dimensions**](#Implementation4)\n",
    "  - [**5.5 Library Dependencies**](#Implementation5)\n",
    "\n",
    "- [**6. Reference**](#reference)\n",
    "- [**7. Licensing**](#licensing)\n"
   ]
  },
  {
   "cell_type": "markdown",
   "metadata": {
    "id": "u3GKCq4UqyNE"
   },
   "source": [
    "<a id=\"introduction\"></a>\n",
    "\n",
    "## 1. Introduction\n",
    "\n",
    "[Return to contents](#contents)"
   ]
  },
  {
   "cell_type": "markdown",
   "metadata": {
    "id": "tXKNjfecyeGz"
   },
   "source": [
    "`funAD` is a PyPi-distributed package that executes forward-mode and reverse-mode of automatic differentiation, enabling users to solve functional derivatives with high computational efficiency and machine precision."
   ]
  },
  {
   "cell_type": "markdown",
   "metadata": {
    "id": "4x7GHQ46-uY4"
   },
   "source": [
    "<a id=\"introduction1\"></a>\n",
    "\n",
    "### 1.1 Differentiation Methods and Motivations\n",
    "\n",
    "[Return to contents](#contents)\n"
   ]
  },
  {
   "cell_type": "markdown",
   "metadata": {
    "id": "op02rpn0-4iO"
   },
   "source": [
    "Differentiation is one of the most fundamental operations in science with a wide range of applications, including optimization, linearization, and root-finding problems. Several approaches to carry out the task have been proposed and gained great ubiquity:\n",
    " * Symbolic calculus methods accept an expression of a function and return the derivative of the given formula with respect to a specified variable. Despite offering analytical solutions at one's disposal, which has benefits in and of itself, symbolic mathematics programs usually have a high computation cost and may not always be applicable especially in cases of discontinuity, high complexity, and non-smoothness while finding the exact form of the derivative as a function. \n",
    " * Numerical differentiation, such as the three-point forward difference formula, employs finite differences approximation to find rate of change of function value at a given point in the domain. Due to the nature of the approximation, it suffers from inaccuracy and instability.\n",
    " * In comparison, the automatic differentiation algorithm has the advantage of attaining both low computational costs and machine precision, overcoming the deficiencies of the two other methods introduced above. Its superior performance lies in its intricate design and implementation, which we will cover in the next section."
   ]
  },
  {
   "cell_type": "markdown",
   "metadata": {
    "id": "URR4xYv1rGPX"
   },
   "source": [
    "<a id=\"introduction2\"></a>\n",
    "\n",
    "### 1.2 Automatic Differentiation\n",
    "\n",
    "[Return to contents](#contents)"
   ]
  },
  {
   "cell_type": "markdown",
   "metadata": {
    "id": "bC12F6KEym2J"
   },
   "source": [
    "As mentioned above, Automatic Differentiation is a competent tool for computing the Jacobian with reasonable computational costs and optimal accuracy, and thus making great contribution to progress made in fluid dynamics, aerospace, and so on. For instance, the back-propagation algorithm, a special case of reverse mode AD applied to scalar functions, is utilized to update node weights of neural network in machine learning. Here, `funAD` provides a robust, readily accessible implementation of the algorithm."
   ]
  },
  {
   "cell_type": "markdown",
   "metadata": {
    "id": "nUYZ8abwtQwi"
   },
   "source": [
    "<a id=\"background\"></a>\n",
    "\n",
    "## 2. Background\n",
    "AD calculates derivatives with the same accuracy as symbolic differentiation, but operates directly on the program of interest to obtain numerical values. The fundamental principle of AD is to decompose complex functions into elementary functions with known derivatives that form evaluation traces, and apply the Chain Rule to compose the derivatives of each step. Hence we first introduce Chain Rule and Elementary Function in order to understand AD.\n",
    "\n",
    "[Return to contents](#contents)"
   ]
  },
  {
   "cell_type": "markdown",
   "metadata": {
    "id": "-nichMJUsBmp"
   },
   "source": [
    "<a id=\"background1\"></a>\n",
    "\n",
    "### 2.1 Derivatives\n",
    "\n",
    "[Return to contents](#contents)"
   ]
  },
  {
   "cell_type": "markdown",
   "metadata": {
    "id": "vrCoiS8Syjju"
   },
   "source": [
    "The derivative measures the sensitivity of the function value with respect to changes in its arguments. In one dimension, let $I \\subseteq \\mathbb{R}$ be an interval and let $x_0 \\in I$. If exists, the derivative of the real-valued, single variable function $f \\colon I → \\mathbb{R}$ at $x_0$ is defined as,\n",
    "\n",
    "$$f'(x_0) =\\lim_{h→0} \\frac{f(x_0+h)-f(x_0)}{h}$$\n",
    "\n",
    "In multiple dimensions, for a vector-valued function with several arguments, such as the mapping $f \\colon \\mathbb{R}^{m} → \\mathbb{R}^{n}$, the partial derivative of the $i$th vector component of function output with respect to the $j$th input can be written as,\n",
    "\n",
    "$$\\frac{\\partial}{\\partial{x_j}}f_i(\\textbf{x}) = \\lim_{h→0}\\frac{f_i(x_1, x_2, ..., x_{j-1}, x_{j}+h, x_{j+1},...,x_{m})-f_i(x_1, x_2, ..., x_{j-1}, x_{j}, x_{j+1},...,x_{m})}{h}$$\n",
    "\n",
    "\n",
    "In this case, the **Jacobian** matrix consisting of all the first-order partial derivatives of the function is often considered. The Jacobian $J(\\textbf{x}^{(k)})$ of $f(\\textbf{x})$ evaluated at $\\textbf{x}^{(k)}$ will be a $n \\times m$ matrix with elements \n",
    "\n",
    "$$J(\\textbf{x}^{(k)})_{i,j} = \\frac{\\partial{f_i}}{\\partial{x_j}}\\Bigr\\rvert_{\\textbf{x} = {x}^{(k)}}$$\n",
    "\n",
    "Moreover, given the same definition as above, it is oftentimes important to know the instantaneous rate of change of function value $f_i$ along a specified direction $p$ in the domain. Defined as the directional derivative of $f_i$ along the vector $p$, it is computed as the projection of the gradient vector $\\nabla f_i$ along direction of $p$. \n",
    "\n",
    "$$D_pf_i=(\\nabla f_i)ᵀp=\\sum_{j=1}^{m} \\frac{\\partial{f_i}}{\\partial{x_j}}$$\n"
   ]
  },
  {
   "cell_type": "markdown",
   "metadata": {
    "id": "VmXMLW_Jtq2L"
   },
   "source": [
    "<a id=\"background2\"></a>\n",
    "\n",
    "### 2.2 Chain Rule\n",
    "\n",
    "\n",
    "\n",
    "[Return to contents](#contents)"
   ]
  },
  {
   "cell_type": "markdown",
   "metadata": {
    "id": "Rc0Cgj9ejjgA"
   },
   "source": [
    "The central idea of Automatic Differentiation is the decomposition of complicated functional relations and the piecewise determination of derivatives based on the generalized Chain Rule.  \n",
    "\n",
    "To recall, according to the Chain Rule, for scalar-valued function of one real variable $f(x)$ and $g(x)$,\n",
    "\n",
    "$$\\frac{\\text{d}}{\\text{d}x} (f(g(x))) = f'(g(x))g'(x)$$\n",
    "\n",
    "When extended to real-valued functions of multiple variables in high dimensional coordinates $f\\colon \\mathbb{R}^n → \\mathbb{R}$, the Chain Rule states that,\n",
    "\n",
    "$$\\nabla_{\\textbf{x}} f = \\sum_{i=1}^{n} \\frac{\\partial{f}}{\\partial{y_i}} \\nabla y_i(\\textbf{x})$$\n",
    "\n",
    "where $\\textbf{x} = [x_1,x_2,...,x_m] \\in \\mathbb{R}^m$ vector of independent coordinates, $y(\\textbf{x}) = [y_1(\\textbf{x}), y_2(\\textbf{x}), ...,y_n(\\textbf{x})] \\in \\mathbb{R}^n$ n-dimensional input vector of $f$, and $\\nabla y_i(\\textbf{x}) = [\\frac{\\partial{y_i}}{\\partial{x_1}}, \\frac{\\partial{y_i}}{\\partial{x_2}}, ...,\\frac{\\partial{y_i}}{\\partial{x_m}}]{ᵀ}$ \n",
    "\n",
    "\n",
    "In the most generalized form, the output of $f$ would be a vector instead of a scalar, in which case the derivative of each component $f_k$ can be found following the Chain Rule. \n",
    "\n",
    "\n",
    "\n",
    "\n",
    "\n",
    "\n",
    "\n"
   ]
  },
  {
   "cell_type": "markdown",
   "metadata": {
    "id": "8vANjXOpuR6d"
   },
   "source": [
    "<a id=\"background3\"></a>\n",
    "\n",
    "### 2.3 Elementary Functions\n",
    "\n",
    "[Return to contents](#contents)"
   ]
  },
  {
   "cell_type": "markdown",
   "metadata": {
    "id": "3NZDHEDLcoQC"
   },
   "source": [
    "A complicated function formula is always made up of a ordered sequence of basic unitary and binary operations, known as the partial ordering of the operations associated with the function $f$. A function can therefore be broken down and structured into a handful of parallel and enclosing elementary functions, generating an intermediate result at each evaluation step when working from inside out.\n",
    "\n",
    "Specifically, an elementary function is a function of a single variable that is defined as taking sums, products, roots and compositions of finitely many polynomial, rational, trigonometric, hyperbolic, and exponential functions, including possibly their inverse functions.$^1$Some common examples include,\n",
    "\n",
    "* Constant functions: 2, $\\pi$,$e$\n",
    "* Rational powers of x: $x$,$x^3$,$\\sqrt{x}$\n",
    "* Exponential and logarithmic functions: $e^{x}$, $\\ln{x}$, $10^{x}$, $\\log_2{x}$\n",
    "* Trigonometric functions: $\\sin(x)$\n",
    "\n",
    "When it comes to Automatic Differentiation, provided that the function has been formulated as a composition of elementary function structures, its derivative can be easily evaluated according to the Chain Rule by bringing forward and adding on to the derivatives of intermediate variables with consideration of the differentiation properties of involving elementary functions."
   ]
  },
  {
   "cell_type": "markdown",
   "metadata": {
    "id": "U_y-ySLCtxt2"
   },
   "source": [
    "<a id=\"background4\"></a>\n",
    "\n",
    "### 2.4 Forward Mode\n",
    "\n",
    "AD can be achieved through two modes: forward mode and reverse mode, which shares the same underlying practice, i.e., decomposing a complicated function into a series of elementary functions which led to intermediate variables denoted as $v_i$ for $i>0$, and, at each evaluation step, composing the derivatives together based on the Chain Rule. For the forward mode, we apply the Chain Rule in the direction consistent with the computational graph. The output is indeed the inner product of the gradient of the function and the seed vector$$\\nabla f ⋅ p$$\n",
    "where $\\nabla f$ refers to the Jacobian and $p$ refers to the seed vector.\n",
    "\n",
    "To be more detailed, while working on the calculations from inside out, at each step $i$, the algorithm keeps track two kinds of intermediate results: evaluation of $v_i$ and the directional derivative $D_pv_i$. The former is called the forward primal trace, and the latter forward tangent trace.\n",
    "\n",
    "#### 2.4.1 The Use of Chain Rule\n",
    "In the context of Automatic Differentiation, input function $f$ has independent coordinates $\\textbf{x}$ and dependent coordinates $v_i$ for $i>0$, which are, in essence, the intermediate results. Since each intermediate result is built on top of previous ones, in the light of the Chain Rule, there is,\n",
    "\n",
    "$$\\nabla_x v_i = \\sum_{j:\\ \\text{parent of i}} \\frac{\\partial v_i}{\\partial v_j}\\nabla_xv_j$$\n",
    "\n",
    "\n",
    "#### 2.4.2 The Use of Seed Vector\n",
    "In regard to AD, the convention is to \"seed\" the derivative with a preferably unit length vector. Let seed vector be denoted as $p$, then the directional derivative is  $$D_{p}v_{i} = (∇v_{i})^{T}⋅p$$\n",
    "i.e. the derivative of $v_{i}$ in the direction of the seed vector p.\n",
    "\n",
    "#### 2.4.2 Jacobian Finding\n",
    "\n",
    "Recall from section 2.1, the Jacobian generalizes the gradient of function. In the case of AD, the columns of trace table are essentially the corresponding column of the Jacobian matrix. That is, with $p$ set to be the unit vector of coordinate $x_j$, then $[D_p f_1, D_p f_2, ..., D_p f_n]$ is the is exactly the jth column of Jacobian. To find the full Jacobian matrix, a total of $m$ passes is thus needed. \n",
    "\n",
    "#### 2.4.4 Example for Illustration\n",
    "\n",
    "Here is an illustrative example of $$f(x) = x_{1}+x_{2}$$\n",
    "Implementing the forward mode of AD, we form computational graph and evaluation trace in order to compute $f(x)$ and $f\\prime(x)$.\n",
    "\n",
    "Computational Graph\n",
    "\n",
    "![Forward.png](data:image/png;base64,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)\n",
    "\n",
    "Gradient Computation using Forward Mode\n",
    "\n",
    "| Forward Primal Trace | Forward Tangent Trace |Pass $p^{j=1}$=[1,0]| Pass $p^{j=2}$=[0,1] |\n",
    "| :-----: | :-----: | :-----: | :-----: |\n",
    "| $v_{-1}=x_{1}$ | $D_{p}v_{-1} = p_{1}$ | $D_{p}v_{-1} = 1$ | $D_{p}v_{-1} = 0$|\n",
    "| $v_{0}=x_{2}$ | $D_{p}v_{0} = p_{2}$| $D_{p}v_{0} = 0$ | $D_{p}v_{0} = 1$|\n",
    "| $v_{1}=v_{-1}+v_{0}$ | $D_{p}v_{1} = p_{1}+p_{2}$| $D_{p}v_{1} = 1$ | $D_{p}v_{1} = 1$|\n",
    "\n",
    "[Return to contents](#contents)"
   ]
  },
  {
   "cell_type": "markdown",
   "metadata": {
    "id": "z94q4rtjuHjo"
   },
   "source": [
    "<a id=\"background5\"></a>\n",
    "\n",
    "### 2.5 Reverse Mode\n",
    "\n",
    "The reverse mode is ideal when the dimensionality of the input is significantly larger than the dimensionality of the output. Instead of propagating the derivative forward as the forward mode does, the reverse mode propagates the derivative backward from the output. The reverse mode consists of two parts: forward pass and reverse pass. \n",
    "\n",
    "#### 2.5.1 Forward Pass\n",
    "During the forward pass, we evaluate the intermediate variables $v_{i}$ and store the partial derivatives of child nodes with respect to their parent node in memory$$\\frac{\\partial{v_{j}}}{\\partial{v_{i}}}$$\n",
    "\n",
    "#### 2.5.2 Reverse Pass\n",
    "In reverse mode, we compute the partial derivatives of the output with respect to the intermediate variables known as adjoints reversely. The adjoint is denoted as $v_{i}$, where\n",
    "$$\\begin{align}\\bar{v_{i}} &= \\frac{\\partial{f}}{\\partial{v_{i}}}\\\\&=\\sum_{\\text{j: child of i}} \\frac{\\partial{f}}{\\partial{v_{j}}}\\frac{\\partial{v_{j}}}{\\partial{v_{i}}}\\end{align}$$\n",
    "\n",
    "For each specific node, we first apply chain rule to multiply the adjoint of child by the partial derivative of the child with respect to $v_{i}$ and take the sum of these products. In other words, $v_{i}$'s contribution to the output is defined by its children's contribution to the output as well as its affect on children. In this case, we obtain partial derivative of each input. \n",
    "\n",
    "#### 2.5.3 Example for Illustration\n",
    "\n",
    "Recall the illstrative example from the forward mode in section 2.4 $$f(x) = x_{1}+x_{2}$$\n",
    "This time, we compute $f(x)$ and $f\\prime(x)$ using the computational graph and evaluation trace specified in the reverse mode of AD.\n",
    "\n",
    "Computational Graph\n",
    "\n",
    "![Reverse.png](data:image/png;base64,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)\n",
    "\n",
    "Gradient Computation using Reverse Mode\n",
    "\n",
    "* Forward pass: Intermediate and Partial Derivatives\n",
    "\n",
    "* Reverse Pass: Adjoint\n",
    "\n",
    "| Intermediate | Partial Derivatives | Adjoint |\n",
    "| :-----: | :-----: | :-----: |\n",
    "| $v_{-1}=x_{1}$ | | $\\bar{v_{-1}}=\\frac{\\partial{f}}{\\partial{v_{1}}}\\frac{\\partial{v_{1}}}{\\partial{v_{-1}}}=\\bar{v_{1}}\\frac{\\partial{v_{1}}}{\\partial{v_{1}}}=1$ |\n",
    "| $v_{0}=x_{2}$ |  | $\\bar{v_{0}}=\\frac{\\partial{f}}{\\partial{v_{1}}}\\frac{\\partial{v_{1}}}{\\partial{v_{0}}}=\\bar{v_{1}}\\frac{\\partial{v_{1}}}{\\partial{v_{0}}}=1$|\n",
    "| $v_{1}=v_{-1}+v_{0}$ |$\\frac{∂v_{1}}{∂v_{-1}}=1$;$\\frac{∂v_{1}}{∂v_{0}}=1$|$\\bar{v_{1}}=\\frac{\\partial{v_{1}}}{\\partial{v_{1}}}=1$|\n",
    "\n",
    "\n",
    "\n",
    "\n",
    "#### 2.5.4 Comparison to Forward Mode\n",
    "In contrast to the forward mode, the reverse mode of AD does not involve directional derivatives. Instead, it calculates and stores the partial derivatives. The reverse mode can only run after the forward pass is completed and it is memory-intensive\n",
    "\n",
    "[Return to contents](#contents)"
   ]
  },
  {
   "cell_type": "markdown",
   "metadata": {
    "id": "lzl8Yds3umJI"
   },
   "source": [
    "<a id=\"background6\"></a>\n",
    "\n",
    "### 2.6 Dual Number\n",
    "\n",
    "A dual number consists of a real part and a dual part, with the following format $$z=a+bϵ$$ where a represents the real part $f$, b represents the dual part $f\\prime$, and $\\epsilon$ is a nonzero and nonreal number which satisfies $\\epsilon^2=0$.\n",
    "\n",
    "Noticing the format of dual numbers is very similar to complex numbers. The key difference here is that for dual numbers $\\epsilon^2=0$ whereas for complex number $i^2=-1$.\n",
    "\n",
    "Dual numbers are extremely useful when calculating function values and function derivatives in AD setups. For instance, say we have $$f(x) = x^2$$ and would like to calculate $f(x)$ and $f\\prime(x)$. We first convert x into a dual number as $x=a+bϵ$. Then $$\\begin{align}f(x) &= (a+bϵ)^2 \\\\&= a^2 + 2abϵ + b^2ϵ^2\\\\&= a^2 + 2abϵ\\end{align}$$ where $f(x) = a^2$ and $2abϵ$ contains the derivative of function $f\\prime(x)$ evaluated at a. \n",
    "\n",
    "[Return to contents](#contents)"
   ]
  },
  {
   "cell_type": "markdown",
   "metadata": {
    "id": "d6DkHWwqwRzH"
   },
   "source": [
    "<a id=\"usage\"></a>\n",
    "\n",
    "## 3. Usage\n",
    "\n",
    "[Return to contents](#contents)\n",
    "\n",
    "`funAD` is available through the Python Package Index (PyPI). Refer to the PyPI webpage for more project description."
   ]
  },
  {
   "cell_type": "markdown",
   "metadata": {
    "id": "PJOwqEuCwWxH"
   },
   "source": [
    "<a id=\"usage1\"></a>\n",
    "\n",
    "### 3.1 Installation\n",
    "\n",
    "[Return to contents](#contents)\n",
    "\n",
    "To install `funAD` with pip, run the following command:\n",
    "\n",
    "    pip install funAD"
   ]
  },
  {
   "cell_type": "markdown",
   "metadata": {
    "id": "PgJYYCbBwaWm"
   },
   "source": [
    "<a id=\"usage2\"></a>\n",
    "\n",
    "### 3.2 How to use\n",
    "\n",
    "[Return to contents](#contents)\n",
    "\n",
    "After successful installation, the user can import `funAD` and its dependencies.\n",
    "\n",
    "    import funAD as ad\n",
    "    from funAD import Forward, Dual\n",
    "\n",
    "For example, a user would like to compute the derivative of function $$f=x_1+e^{x_2}$$ w.r.t. $x_1$,$x_2$, with input values $x_1=1$ and $x_2=2$ ($x_1, x_2$ are real numbers).\n",
    "\n",
    "    x1 = Dual(val=1,pos=0)\n",
    "    x2 = Dual(val=2,pos=1)\n",
    "\n",
    "In the code above, *val* specifies the real value of independent variables, *pos* specifies the index of each variable if there are multiple independent variables. By default, *der* argument takes 1 in the instantiation of a Dual object.\n",
    "\n",
    "Now we can calculate the value of function and derivative based on operators implemented in the Dual class.\n",
    "\n",
    "    f = Forward(x1+ad.exp(x2))\n",
    "    f.func_value() # return the value of function\n",
    "    f.diff() # return the derivative of function as a Numpy array\n",
    "    f.diff()[1] # return the derivative of function w.r.t. x2 \n"
   ]
  },
  {
   "cell_type": "markdown",
   "metadata": {
    "id": "dD-IfQe_wf_G"
   },
   "source": [
    "<a id=\"softwareorganization\"></a>\n",
    "\n",
    "## 4. Software Organization\n",
    "\n",
    "[Return to contents](#contents)"
   ]
  },
  {
   "cell_type": "markdown",
   "metadata": {
    "id": "SUWHEoLg-OLP"
   },
   "source": [
    "<a id=\"softwareorganization1\"></a>\n",
    "\n",
    "### 4.1 Directory Structure\n",
    "\n",
    "```\n",
    "team21/\n",
    "│   \n",
    "├── LICENSE\n",
    "├── pyproject.toml\n",
    "├── README.md\n",
    "├── setup.cfg\n",
    "└─── docs/\n",
    "│   └── milestone1.md\n",
    "│   │   ...\n",
    "└─── src/\n",
    "│   └── funAD\n",
    "│       ├── __init__.py\n",
    "│       ├── automatic_differentiation_classes.py\n",
    "│       ├── elementary_functions.py\n",
    "│       ├── dual_number_class.py\n",
    "│       │   ...\n",
    "└── tests/\n",
    "│   ├── dual_number_class_tests.py\n",
    "│   ├── elementary_functions_tests.py\n",
    "│   ├── forward_mode_tests.py\n",
    "│   │   ...\n",
    "\n",
    "```"
   ]
  },
  {
   "cell_type": "markdown",
   "metadata": {
    "id": "3YVnP7716VXM"
   },
   "source": [
    "<a id=\"softwareorganization2\"></a>\n",
    "\n",
    "### 4.2 Package & Distribution\n",
    "\n",
    "We build and package our software using the the standard packaging tool [setuptools](https://packaging.python.org/key_projects/#setuptools)\n",
    "\n",
    "We will specify minimum build requirements in a `pyproject.toml` file that is consistent with PEP518. We will use a `setup.cfg` file to define our packages' metadata.\n",
    "\n",
    "Our package would be distributed through [Python Package Index (PyPi)](https://pypi.org/)\n"
   ]
  },
  {
   "cell_type": "markdown",
   "metadata": {
    "id": "rE2PsYJjI4up"
   },
   "source": [
    "<a id=\"softwareorganization3\"></a>\n",
    "\n",
    "### 4.3 Modules to Include\n",
    "\n",
    " `Numpy`: provide multi-dimensional array and matrix computation support, we will also rely on `Numpy`'s mathematic operations and elementary function implementations (such as sin(), arctan(), etc.)"
   ]
  },
  {
   "cell_type": "markdown",
   "metadata": {
    "id": "3ZSHJincI7LT"
   },
   "source": [
    "<a id=\"softwareorganization4\"></a>\n",
    "\n",
    "### 4.4 Test Design\n",
    "\n",
    "The functionality tests will be included in the `tests` directory in the root directory. We plan to use `Travis-CI` to test coverage and integration."
   ]
  },
  {
   "cell_type": "markdown",
   "metadata": {
    "id": "_Eyw_0H0wnnU"
   },
   "source": [
    "<a id=\"implementation\"></a>\n",
    "\n",
    "## 5. Implementation\n",
    "\n",
    "[Return to contents](#contents)"
   ]
  },
  {
   "cell_type": "markdown",
   "metadata": {
    "id": "ueXynz30lM_d"
   },
   "source": [
    "<a id=\"implementation1\"></a>\n",
    "\n",
    "### 5.1 Classes\n",
    "\n",
    "*   Dual - a class modeling dual numbers. **We plan to implement this class first, as the Dual object is the core data structure in our implementation(see reasons in the next section).** \n",
    "    * `__init__(self,val,der=1,pos=0)`: Instantiate a Dual object by specifying real part and dual part. `pos` specifies the index of each variable if there are multiple independent variables.\n",
    "    * `__add__(self,other)`: the addition between two Dual objects, return a new Dual object.\n",
    "    * `__radd__(self,other)`: handle addition with regular numbers. Note that `self` is a Dual object, while `other` is a real number (floating point number or integer).\n",
    "    * `__sub__(self,other)`: substract Dual object `self` by Dual object `other`, return a new Dual object\n",
    "    * `__rsub__(self,other)`: handle substraction with regular numbers. Note that `self` is a Dual object, while `other` is a real number (floating point number or integer).\n",
    "    * `__mul__(self,other)`: the multiplication between two Dual objects, return a new Dual object.\n",
    "    * `__rmul__(self,other)`: handle multiplication with regular numbers. Note that `self` is a Dual object, while `other` is a real number (floating point number or integer).\n",
    "    * `__truediv__(self,other)`: divide Dual object `self` by Dual object `other`, return a new Dual object.\n",
    "    * `__rtruediv__(self,other)`: handle division with regular numbers. Note that `self` is a Dual object, while `other` is a real number (floating point number or integer).\n",
    "    * `__pow__(self,other)`: power operation of two Dual objects, return a new Dual object\n",
    "    * `__rpow__(self,other)`: handle power operation with regular numbers. Note that `self` is a Dual object, while `other` is a real number (floating point number or integer).\n",
    "\n",
    "*   AD - the base class for automatic differentiation.\n",
    "    *   `__init__(self,f)`: Instantiate an AD object with a function expression. `f` should be a Dual object. To represent vector functions, `f` should be an array of Dual objects. \n",
    "    *   `func_value(self)`: calculate and return the function value\n",
    "*   Forward - child class of AD, running forward mode AD\n",
    "    *   `__init__(self,f)`: Instantiate an Forward object with a function expression. `f` should be a Dual object. To represent vector functions, `f` should be an array of Dual objects. \n",
    "    *   `diff(self)`: Calculate the gradient/Jacobian. The function calls `diff(self,pos=0)`, packs each return value in a `NumPy` array, and returns the array.\n",
    "    *   `direc_diff(self,p)`: Calculate and derivative on the direction of seed vector `p`. `p` is of type `NumPy` array. The function calls `diff(self,pos=0)`. The return value is a `NumPy` array.\n",
    "    *   `diff(self,pos=0)`: Calculate the derivative of function w.r.t. a specified coordinate `x` where `x.pos=pos`. A scalar value is returned."
   ]
  },
  {
   "cell_type": "markdown",
   "metadata": {
    "id": "GDBEnDpQZg4c"
   },
   "source": [
    "Demo code:"
   ]
  },
  {
   "cell_type": "code",
   "execution_count": null,
   "metadata": {
    "id": "RP_5ZhYUJmZW"
   },
   "outputs": [],
   "source": [
    "# demo code, please do not run\n",
    "import numpy as np\n",
    "import funAD as ad\n",
    "from funAD import Dual, Forward\n",
    "\n",
    "# initialize Dual objects with input values\n",
    "# the derivatives (dual parts) are initialized to be default value of 1's\n",
    "x1 = Dual(2)\n",
    "x2 = Dual(3)\n",
    "\n",
    "# addition between Dual objects\n",
    "(x1+x2).val\n",
    ">>> 5\n",
    "(x1+x2).der\n",
    ">>> 2.0\n",
    "\n",
    "# addition between a Dual object and a regular number\n",
    "(x1+1).val\n",
    ">>> 3\n",
    "(x1+1).der\n",
    ">>> 1.0\n",
    "\n",
    "# initialize dual number object with input values and positional attributes\n",
    "# the positional attribute is used for multiple independent variable inputs\n",
    "# so we can identify which differentiated corresponds to which variable\n",
    "x1 = Dual(2,pos=0)\n",
    "x2 = Dual(3,pos=1)\n",
    "\n",
    "# initialize AD object based on user defined function\n",
    "f = Forward(x1*x2 + ad.exp(x2))\n",
    "\n",
    "# calculate the gradient of the function\n",
    "f.diff()\n",
    "# since x1 has pos = 0 and x2 has pos = 1,\n",
    "# 3.0 and 22.08553692 correspond to df/dx_1 and df/dx_2, respectively\n",
    ">>> array([ 3.0, 22.08553692])\n",
    "\n",
    "# calculate the directional derivative\n",
    "p = np.array([1,0])\n",
    "# this shows the directional derivative when p = [1,0]^T \n",
    "f.direc_diff(p)\n",
    ">>> 3.0"
   ]
  },
  {
   "cell_type": "markdown",
   "metadata": {
    "id": "86-aKcYoHAsr"
   },
   "source": [
    "<a id=\"implementation2\"></a>\n",
    "\n",
    "### 5.2 Core Data Structures\n",
    "[Return to contents](#contents)\n",
    "\n",
    "##### **Dual**\n",
    "\n",
    "we plan to implement Dual as the core data structure. Dual objects mimic dual numbers, which take current function value as the real part and the derivative as the dual part. Thus, it encapsulates the two components in a single structure and transitions forward into the next node in the computational graph. The transition from one node to its child is achieved by basic operations(+-*/...) between two Dual objects.  \n",
    "\n",
    "##### **`NumPy` array**\n",
    "\n",
    "We plan to use `NumPy` array as the main data structure to store values. For instance, the derivative/ Jacobian computed by `diff()` method will be returned as a `NumPy` array/matrix depending the dimensions.\n",
    "\n",
    "##### **Dictionary**\n",
    "\n",
    "To resemble the computational graph, we plan to use Python dictionaries to explicitly store the values of each node. The dictionaries will have the following structure\n",
    "\n",
    "     dict = {node1:{parents:[p1,p2,...],\n",
    "                    children:[c1,c2,...],\n",
    "                    value:val1},\n",
    "             node2:{...}}\n",
    "\n",
    "where each node is a Dual object."
   ]
  },
  {
   "cell_type": "markdown",
   "metadata": {
    "id": "57-OBTawhXZw"
   },
   "source": [
    "<a id=\"implementation3\"></a>\n",
    "\n",
    "### 5.3 Elementary Functions & Operator Overloading\n",
    "[Return to contents](#contents)\n",
    "\n",
    "Upon our current design, arithmetic operations (e.g. +-\\*/) and functions (e.g. sin,sqrt,log) will be evaluated on Dual objects. We make this possible by overloading arithmetic operations (e.g. +-\\*/) in `Dual` class and overloading elementary functions in `elementary_functions.py` module. Note that after the user import `funAD`, the overwritten functions in `elementary_functions.py` will be callable in the namespace of `funAD`. As the result, the user can do operations on Dual objects just like on regular numbers as well as operations across Dual objects and regular numbers. Below we show three examples about our overloading template.\n",
    "\n",
    "\n",
    "\n",
    "```\n",
    "\n",
    "# In dual_number_class.py, we overwrite addition within new Dual object with updated attributes\n",
    "\n",
    "from numpy import np\n",
    "class Dual:\n",
    "...\n",
    "      def __add__(self,other):\n",
    "          # handle addition between Dual objects\n",
    "          try:\n",
    "            res_val = self.val + other.val\n",
    "            res_der = self.der + other.der\n",
    "          # handle addition with a regular number\n",
    "          except AttributeError as ae:\n",
    "            res_val = self.val + other\n",
    "            res_der = self.der\n",
    "          return Dual(res_val,res_der)\n",
    "...\n",
    "\n",
    "# In elementary_functions.py, we overload elementary functions such as sine and exponential functions\n",
    "...\n",
    "\n",
    "import numpy as np\n",
    "def sin(x):\n",
    "    # handle Dual object\n",
    "    try:\n",
    "      res_val = np.sin(x.val)\n",
    "      res_der = np.cos(x.val)*x.der\n",
    "      return Dual(res_val,res_der)\n",
    "    # handle regular number\n",
    "    except AttributeError as ae:\n",
    "      return np.sin(x)\n",
    "    \n",
    "\n",
    "def exp(x):\n",
    "    # handle Dual object\n",
    "    try:\n",
    "      res_val = np.exp(x.val)\n",
    "      res_der = np.exp(x.val)*x.der\n",
    "      return Dual(res_val,res_der)\n",
    "    # handle regular number\n",
    "    except AttributeError as ae:\n",
    "      return np.exp(x)    \n",
    "...\n",
    "```\n",
    "\n",
    "\n"
   ]
  },
  {
   "cell_type": "markdown",
   "metadata": {
    "id": "6fjmxW3jbmNF"
   },
   "source": [
    "Demo code:"
   ]
  },
  {
   "cell_type": "code",
   "execution_count": null,
   "metadata": {
    "id": "7Z5b_pRg6-lT"
   },
   "outputs": [],
   "source": [
    "# demo code, please do not run\n",
    "import numpy as np\n",
    "import funAD as ad\n",
    "from funAD import Dual\n",
    "\n",
    "x1 = Dual(np.pi/2, 1.0)\n",
    "x2 = Dual(-1*np.pi/2, 1.0)\n",
    "\n",
    "# addition between Dual objects\n",
    "(x1+x2).val\n",
    ">>> 0.0 \n",
    "(x1+x2).der\n",
    ">>> 2.0\n",
    "\n",
    "# addition between a Dual object and a regular number\n",
    "(x1+1).val\n",
    ">>> 2.5707963267948966\n",
    "(x1+1).der\n",
    ">>> 1.0\n",
    "\n",
    "# sine function on a Dual object\n",
    "ad.sin(x1).val\n",
    ">>> 1.0\n",
    "ad.sin(x1).der\n",
    ">>> 6.123233995736766e-17\n",
    "\n",
    "# exponential function on a Dual object\n",
    "ad.exp(x1).val\n",
    ">>> 4.810477380965351\n",
    "ad.exp(x1).der\n",
    ">>> 4.810477380965351"
   ]
  },
  {
   "cell_type": "markdown",
   "metadata": {
    "id": "tG7EoDCzDYVE"
   },
   "source": [
    "Furthermore, we will implement functions listed below in `elementary_functions.py` to work on both regular numbers and Dual objects."
   ]
  },
  {
   "cell_type": "markdown",
   "metadata": {
    "id": "KH1ZcnUWvkfv"
   },
   "source": [
    "| Elementary Function Name   | Overload Function Name |\n",
    "| :--------------------:     | :---------------------:|\n",
    "| sine                       | $\\sin(x)$              | \n",
    "| cosine                     | $\\cos(x)$              |\n",
    "| tangent                    | $\\tan(x)$              |\n",
    "| arcsine                    | $\\arcsin(x)$           |\n",
    "| arcosine                   | $\\arccos(x)$           |\n",
    "| arctangent                 | $\\arctan(x)$           |\n",
    "| exponential                | $\\exp(x)$              |\n",
    "| logarithm                  | $\\log(x, base)$        |\n",
    "| power                      | $pow(x, n)$            |\n",
    "| square root                | $sqrt(x)$              |\n"
   ]
  },
  {
   "cell_type": "markdown",
   "metadata": {
    "id": "q4Rr9jN4Q9C3"
   },
   "source": [
    "<a id=\"implementation4\"></a>\n",
    "\n",
    "### 5.4 Handle Higher Dimensions\n",
    "[Return to contents](#contents)\n",
    "\n",
    "Our implementation considers general functions \n",
    "$$ f: \\mathbb{R}^{m} → \\mathbb{R}^{n} \\;\\;\\forall m,n$$\n",
    "where m is the dimension of independent variables and n is the dimension of function outputs. We make this possible by modeling the function object as an array of Dual objects.\n",
    "\n",
    "**$f: \\mathbb{R} → \\mathbb{R}$**\n",
    "\n",
    "In this case, `f` is a scalar function of single input. `f` is simply a Dual object that builds on another Dual object `x`. \n",
    "\n",
    "**$f: \\mathbb{R}^{m} → \\mathbb{R}$**\n",
    "\n",
    "In this case, f is a scalar function of vector input. `f` is a Dual object that builds on multiple Dual objects `x1,x2,...,xm`.\n",
    "\n",
    "**$f: \\mathbb{R}^{m} → \\mathbb{R}^{n}$**\n",
    "\n",
    "In this case, f is a vector function of vector input. `f` is an array of Dual objects with length n, and each component of the array builds on multiple Dual objects `x1,x2,...,xm`.\n",
    "\n",
    "To calculate the gradient/Jacobian, we implement `diff()` based on a similar structure. `diff()` calls `diff(pos=0)` to calculate the derivative w.r.t. each independent variable `x` and then packs the derivatives inside a NumPy array. This structure illustrates \"m passes\" in the forward mode. Note that for vector functions, the method will iterate the above steps for each function component and packs the values inside a Numpy matrix. \n",
    "\n",
    "As the result, a gradient `g` will be an array with length m, where each component of the array is returned by `diff(f,pos)`. Similarly, a Jacobian `J` will be an 2-d array with size n*m, where each entry is given by `diff(f[i],pos)`, with i denotes the index of the evaluated function component."
   ]
  },
  {
   "cell_type": "markdown",
   "metadata": {
    "id": "MvIvpNXkRXcx"
   },
   "source": [
    "<a id=\"implementation5\"></a>\n",
    "\n",
    "### 5.5 Library Dependencies\n",
    "[Return to contents](#contents)\n",
    "\n",
    "Our implementation will depend on `NumPy` library. We employ `NumPy`'s* array and matrix functionality to handle vectors and matrices and expand/overload its  arithmetic operations and computation functions (e.g., `np.exp()`) to build our elementary functions. All dependencies would be installed through setup.cfg file under the root directory. "
   ]
  },
  {
   "cell_type": "markdown",
   "metadata": {
    "id": "21IRVQJ7wtp7"
   },
   "source": [
    "<a id=\"reference\"></a>\n",
    "\n",
    "## 6. Reference\n",
    "\n",
    "[Return to contents](#contents)"
   ]
  },
  {
   "cell_type": "markdown",
   "metadata": {
    "id": "d1J8cbsdRiSr"
   },
   "source": [
    "1. Wikimedia Foundation. (2022, September 16). Directional derivative. Wikipedia. Retrieved October 19, 2022, from https://en.wikipedia.org/wiki/Directional_derivative "
   ]
  },
  {
   "cell_type": "markdown",
   "metadata": {
    "id": "eVnxisuu5MkO"
   },
   "source": [
    "<a id=\"licensing\"></a>\n",
    "\n",
    "## 7. Licensing\n",
    "\n",
    "[Return to contents](#contents)\n",
    "\n",
    "We will use the GNU General Public License. This copyleft license not only gives users freedom to use and modify our code but also forbid others from imposing further restrictions downstream. We believe in GNU's official statement that \"anyone who redistributes the software, with or without changes, must pass along the freedom to further copy and change it.\" We hope this would promote the open-source spirit of development communities.\n",
    "\n",
    "More on this particular license can be found here: https://www.gnu.org/licenses/gpl-3.0.html \n"
   ]
  },
  {
   "cell_type": "code",
   "execution_count": null,
   "metadata": {
    "id": "0PURvU5R2hiy"
   },
   "outputs": [],
   "source": []
  }
 ],
 "metadata": {
  "colab": {
   "collapsed_sections": [],
   "provenance": [],
   "toc_visible": true
  },
  "kernelspec": {
   "display_name": "Python 3 (ipykernel)",
   "language": "python",
   "name": "python3"
  },
  "language_info": {
   "codemirror_mode": {
    "name": "ipython",
    "version": 3
   },
   "file_extension": ".py",
   "mimetype": "text/x-python",
   "name": "python",
   "nbconvert_exporter": "python",
   "pygments_lexer": "ipython3",
   "version": "3.10.6"
  }
 },
 "nbformat": 4,
 "nbformat_minor": 1
}
